{
 "cells": [
  {
   "cell_type": "code",
   "execution_count": 3,
   "id": "3bbaa698-3c22-4750-b236-b58db6d2eb66",
   "metadata": {},
   "outputs": [],
   "source": [
    "import requests\n",
    "from bs4 import BeautifulSoup\n"
   ]
  },
  {
   "cell_type": "code",
   "execution_count": 4,
   "id": "2d155be8-98f9-4b51-b4b0-4aeb7800774b",
   "metadata": {},
   "outputs": [],
   "source": [
    "header = {'\"User-Agent\": \"Mozilla/5.0 (Windows NT 10.0; Win64; x64) AppleWebKit/537.36 '}\n",
    "url = 'https://www.amazon.com/crocs-Unisex-Classic-Black-Women/dp/B0014C0LSY/?_encoding=UTF8&pd_rd_w=b8JL4&content-id=amzn1.sym.64be5821-f651-4b0b-8dd3-4f9b884f10e5&pf_rd_p=64be5821-f651-4b0b-8dd3-4f9b884f10e5&pf_rd_r=PNHQY119B1JTJDYB8RBK&pd_rd_wg=YeQv3&pd_rd_r=b93be1a4-216b-42a3-9443-094087fc3e90&ref_=pd_hp_d_btf_crs_zg_bs_7141123011'\n",
    "page = requests.get(url)"
   ]
  },
  {
   "cell_type": "code",
   "execution_count": 5,
   "id": "6fa74b5b-9ee2-4592-b25a-48d892bfad8e",
   "metadata": {},
   "outputs": [
    {
     "data": {
      "text/plain": [
       "<Response [200]>"
      ]
     },
     "execution_count": 5,
     "metadata": {},
     "output_type": "execute_result"
    }
   ],
   "source": [
    "page"
   ]
  },
  {
   "cell_type": "code",
   "execution_count": 6,
   "id": "4ad3ebdf-f33c-431e-a65c-827f7919e004",
   "metadata": {},
   "outputs": [],
   "source": [
    "soup1 = BeautifulSoup(page.content, 'html.parser')"
   ]
  },
  {
   "cell_type": "code",
   "execution_count": 7,
   "id": "34f38d7e-7495-4ba9-a01a-01e66cb76f28",
   "metadata": {},
   "outputs": [],
   "source": [
    "#soup1"
   ]
  },
  {
   "cell_type": "code",
   "execution_count": 8,
   "id": "448663e3-bc42-4525-979e-c1abc3932647",
   "metadata": {},
   "outputs": [],
   "source": [
    "soup2 = BeautifulSoup(soup1.prettify(), 'html.parser')"
   ]
  },
  {
   "cell_type": "code",
   "execution_count": 9,
   "id": "c82d2333-8359-45b0-8fd4-4ea02983dceb",
   "metadata": {},
   "outputs": [],
   "source": [
    "#soup2"
   ]
  },
  {
   "cell_type": "code",
   "execution_count": 10,
   "id": "78e748fd-e6b1-4267-94ac-ace867e4a6d0",
   "metadata": {},
   "outputs": [],
   "source": [
    "title = soup2.find(id = 'productTitle').get_text() "
   ]
  },
  {
   "cell_type": "code",
   "execution_count": 11,
   "id": "ed8473ec-4c14-42f6-89f2-4fc35d887d35",
   "metadata": {},
   "outputs": [
    {
     "data": {
      "text/plain": [
       "'Crocs Unisex-Adult Classic Clogs'"
      ]
     },
     "execution_count": 11,
     "metadata": {},
     "output_type": "execute_result"
    }
   ],
   "source": [
    "title.strip()"
   ]
  },
  {
   "cell_type": "code",
   "execution_count": null,
   "id": "41f7f02d-d7f3-4f49-b8d1-bca868f12a31",
   "metadata": {},
   "outputs": [],
   "source": []
  },
  {
   "cell_type": "code",
   "execution_count": 42,
   "id": "c5bc97d2-6111-4d25-81d5-3424da1baf0d",
   "metadata": {},
   "outputs": [],
   "source": [
    "price = soup2.find_all(id='taxInclusiveMessage')             "
   ]
  },
  {
   "cell_type": "code",
   "execution_count": 43,
   "id": "235d04ae-26e7-4722-9dd0-1b5fc0f154a9",
   "metadata": {},
   "outputs": [
    {
     "data": {
      "text/plain": [
       "[]"
      ]
     },
     "execution_count": 43,
     "metadata": {},
     "output_type": "execute_result"
    }
   ],
   "source": [
    "price"
   ]
  },
  {
   "cell_type": "code",
   "execution_count": null,
   "id": "551a2fd2-d127-40fc-9c5a-ee2e9ddab6c7",
   "metadata": {},
   "outputs": [],
   "source": []
  }
 ],
 "metadata": {
  "kernelspec": {
   "display_name": "Python 3 (ipykernel)",
   "language": "python",
   "name": "python3"
  },
  "language_info": {
   "codemirror_mode": {
    "name": "ipython",
    "version": 3
   },
   "file_extension": ".py",
   "mimetype": "text/x-python",
   "name": "python",
   "nbconvert_exporter": "python",
   "pygments_lexer": "ipython3",
   "version": "3.11.7"
  }
 },
 "nbformat": 4,
 "nbformat_minor": 5
}
