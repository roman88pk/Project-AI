{
 "cells": [
  {
   "cell_type": "markdown",
   "id": "a3c3e3e7-a874-4096-ac82-d08d3f385abe",
   "metadata": {},
   "source": [
    "# Amazong Web Scraping "
   ]
  },
  {
   "cell_type": "code",
   "execution_count": null,
   "id": "185b528b-e148-4e66-b0df-b95552268fdd",
   "metadata": {},
   "outputs": [],
   "source": [
    "from bs4 import BeautifulSoup\n",
    "import requests\n",
    "import csv"
   ]
  },
  {
   "cell_type": "code",
   "execution_count": 2,
   "id": "77a5a09e-fab0-447f-89ad-ffc3979cef47",
   "metadata": {},
   "outputs": [],
   "source": [
    "url = 'https://www.amazon.com/Apple-iPhone-15-128GB-Black/dp/B0CMPMY9ZZ/ref=sr_1_3?crid=1I3GDS5F56V48&dib=eyJ2IjoiMSJ9.Jxh64G2KgbBw9WaD6Ys1BVReuK1R9L3VyQfu34MXHgljlfmFe7rx6ycFkcC0-JL46fLOw5mL7UblvYjllj5J7y_UCjxvi0Un9IiITIqVRkk3ytrlLzOGKvcKDz2yweK2p4M3-2CsxiizAuaSydhRDJGbLC4abujlhRduovn4JE8eQHK0xsdWWV1EveWLSbDi3Pwax1uR8zbXlVOq_VZr7aS5xcyHRY_n_nyo1RuintI.yuYs4xzhtkJI15qv8nMSyukdqgbWybl-XDKy0ExoK2Y&dib_tag=se&keywords=iphone%2B15&qid=1715717387&sprefix=iphone%2B15%2Caps%2C110&sr=8-3&th=1'"
   ]
  },
  {
   "cell_type": "code",
   "execution_count": 3,
   "id": "4e4e845c-3746-4c91-be51-cd8106574290",
   "metadata": {},
   "outputs": [],
   "source": [
    "headers = {\"User-Agent\": \"Mozilla/5.0 (Windows NT 10.0; Win64; x64) AppleWebKit/537.36 (KHTML, like Gecko) Chrome/78.0.3904.108 Safari/537.36\", \"Accept-Encoding\":\"gzip, deflate\", \"Accept\":\"text/html,application/xhtml+xml,application/xml;q=0.9,*/*;q=0.8\", \"DNT\":\"1\",\"Connection\":\"close\", \"Upgrade-Insecure-Requests\":\"1\"}\n",
    "page = requests.get(url, headers = headers)"
   ]
  },
  {
   "cell_type": "code",
   "execution_count": 4,
   "id": "f7629bc2-1fe9-4a7f-9120-1df312503150",
   "metadata": {},
   "outputs": [],
   "source": [
    "soup1 = BeautifulSoup(page.content, 'html.parser')"
   ]
  },
  {
   "cell_type": "code",
   "execution_count": 5,
   "id": "3b85fa42-a127-4a33-9ded-47f06e91787e",
   "metadata": {},
   "outputs": [],
   "source": [
    "soup2 = BeautifulSoup(soup1.prettify(), 'html.parser')"
   ]
  },
  {
   "cell_type": "code",
   "execution_count": 6,
   "id": "c0f28545-9577-4c03-8ded-488b09a63491",
   "metadata": {},
   "outputs": [],
   "source": [
    "#soup2"
   ]
  },
  {
   "cell_type": "code",
   "execution_count": 7,
   "id": "4f59152e-d7c8-4e9d-aa27-4472402a035f",
   "metadata": {},
   "outputs": [],
   "source": [
    "title = soup2.find(id  = 'productTitle').get_text()"
   ]
  },
  {
   "cell_type": "code",
   "execution_count": 8,
   "id": "c859bf89-9a61-477f-8821-fcc2256bd6d4",
   "metadata": {},
   "outputs": [],
   "source": [
    "price = soup2.find('span',  class_=\"a-offscreen\").get_text()"
   ]
  },
  {
   "cell_type": "code",
   "execution_count": 9,
   "id": "66103ead-493c-4e27-868c-2091392f248f",
   "metadata": {},
   "outputs": [
    {
     "name": "stdout",
     "output_type": "stream",
     "text": [
      "\n",
      "             Apple iPhone 15, 128GB, Black - Unlocked (Renewed)\n",
      "            \n",
      "\n",
      "                           $694.97\n",
      "                          \n"
     ]
    }
   ],
   "source": [
    "print(title)\n",
    "print(price)\n"
   ]
  },
  {
   "cell_type": "code",
   "execution_count": 10,
   "id": "d8e7a543-2fe2-4bdf-9bf7-378c9d9d5329",
   "metadata": {},
   "outputs": [],
   "source": [
    "rating = soup2.find('span', class_ = \"a-icon-alt\").get_text()"
   ]
  },
  {
   "cell_type": "code",
   "execution_count": 11,
   "id": "14a49017-8ef1-4d5c-8949-bbea57da175d",
   "metadata": {},
   "outputs": [
    {
     "name": "stdout",
     "output_type": "stream",
     "text": [
      "\n",
      "                                 4.1 out of 5 stars\n",
      "                                \n"
     ]
    }
   ],
   "source": [
    "print(rating)"
   ]
  },
  {
   "cell_type": "code",
   "execution_count": 12,
   "id": "2e608756-0d15-40af-8d5b-7ebf172650ab",
   "metadata": {},
   "outputs": [
    {
     "name": "stdout",
     "output_type": "stream",
     "text": [
      "Apple iPhone 15, 128GB, Black - Unlocked (Renewed)\n",
      "694.97\n"
     ]
    }
   ],
   "source": [
    "price = price.strip()[1:]\n",
    "title = title.strip()\n",
    "print(title)\n",
    "print(price)"
   ]
  },
  {
   "cell_type": "code",
   "execution_count": 13,
   "id": "1db21e39-80ce-4841-8c7b-72f97624436e",
   "metadata": {},
   "outputs": [],
   "source": [
    "# Loading to csv "
   ]
  },
  {
   "cell_type": "code",
   "execution_count": 14,
   "id": "28455603-4825-4d18-9fcd-d30d2e428101",
   "metadata": {},
   "outputs": [
    {
     "data": {
      "text/plain": [
       "str"
      ]
     },
     "execution_count": 14,
     "metadata": {},
     "output_type": "execute_result"
    }
   ],
   "source": [
    "type(price)"
   ]
  },
  {
   "cell_type": "code",
   "execution_count": 19,
   "id": "007bdd62-7760-421f-8f64-58c2b63a9f57",
   "metadata": {},
   "outputs": [],
   "source": [
    "import datetime\n",
    "today = datetime.date.today()"
   ]
  },
  {
   "cell_type": "code",
   "execution_count": 23,
   "id": "0c4ad921-e06d-42a8-9f26-e3c1527fbfeb",
   "metadata": {},
   "outputs": [],
   "source": [
    "headers = ['Title', 'Price', 'Date']\n",
    "data = [title, price, today]\n",
    "with open ('amazon_web_scraped_set.csv', 'w', newline = '', encoding = 'UTF8')as f:\n",
    "    writer = csv.writer(f)\n",
    "    writer.writerow(headers)\n",
    "    writer.writerow(data)\n",
    "    "
   ]
  },
  {
   "cell_type": "code",
   "execution_count": 26,
   "id": "18d0ccfe-bdf1-438d-bc94-38b8dee70468",
   "metadata": {},
   "outputs": [
    {
     "data": {
      "text/html": [
       "<div>\n",
       "<style scoped>\n",
       "    .dataframe tbody tr th:only-of-type {\n",
       "        vertical-align: middle;\n",
       "    }\n",
       "\n",
       "    .dataframe tbody tr th {\n",
       "        vertical-align: top;\n",
       "    }\n",
       "\n",
       "    .dataframe thead th {\n",
       "        text-align: right;\n",
       "    }\n",
       "</style>\n",
       "<table border=\"1\" class=\"dataframe\">\n",
       "  <thead>\n",
       "    <tr style=\"text-align: right;\">\n",
       "      <th></th>\n",
       "      <th>Title</th>\n",
       "      <th>Price</th>\n",
       "      <th>Date</th>\n",
       "    </tr>\n",
       "  </thead>\n",
       "  <tbody>\n",
       "    <tr>\n",
       "      <th>0</th>\n",
       "      <td>Apple iPhone 15, 128GB, Black - Unlocked (Rene...</td>\n",
       "      <td>694.97</td>\n",
       "      <td>2024-05-14</td>\n",
       "    </tr>\n",
       "    <tr>\n",
       "      <th>1</th>\n",
       "      <td>Apple iPhone 15, 128GB, Black - Unlocked (Rene...</td>\n",
       "      <td>694.97</td>\n",
       "      <td>2024-05-14</td>\n",
       "    </tr>\n",
       "  </tbody>\n",
       "</table>\n",
       "</div>"
      ],
      "text/plain": [
       "                                               Title   Price        Date\n",
       "0  Apple iPhone 15, 128GB, Black - Unlocked (Rene...  694.97  2024-05-14\n",
       "1  Apple iPhone 15, 128GB, Black - Unlocked (Rene...  694.97  2024-05-14"
      ]
     },
     "execution_count": 26,
     "metadata": {},
     "output_type": "execute_result"
    }
   ],
   "source": [
    "import pandas as pd\n",
    "pd.read_csv('amazon_web_scraped_set.csv')"
   ]
  },
  {
   "cell_type": "markdown",
   "id": "20772738-b2b7-451e-8289-6ed6bf26c3cd",
   "metadata": {},
   "source": [
    "## Apending the data into dataframe"
   ]
  },
  {
   "cell_type": "code",
   "execution_count": 25,
   "id": "c1f9d0b8-f18d-4ec5-9c7d-66ff2e5c2fc3",
   "metadata": {},
   "outputs": [],
   "source": [
    "data = [title, price, today]\n",
    "with open ('amazon_web_scraped_set.csv', 'a+', newline = '', encoding = 'UTF8')as f:\n",
    "    writer = csv.writer(f)\n",
    "    writer.writerow(data)"
   ]
  },
  {
   "cell_type": "markdown",
   "id": "672358f5-299e-49ec-97c2-69451cf65e31",
   "metadata": {},
   "source": [
    "### Auto appending in the background. When the prices get updated, it does it the background on daily basis, while even if we are asleep.  "
   ]
  },
  {
   "cell_type": "code",
   "execution_count": null,
   "id": "f7ddecb4-4e2d-47dc-9a07-e284a99034d6",
   "metadata": {},
   "outputs": [],
   "source": [
    "def check_price():\n",
    "    soup1 = BeautifulSoup(page.content, 'html.parser')\n",
    "    \n",
    "    "
   ]
  }
 ],
 "metadata": {
  "kernelspec": {
   "display_name": "Python 3 (ipykernel)",
   "language": "python",
   "name": "python3"
  },
  "language_info": {
   "codemirror_mode": {
    "name": "ipython",
    "version": 3
   },
   "file_extension": ".py",
   "mimetype": "text/x-python",
   "name": "python",
   "nbconvert_exporter": "python",
   "pygments_lexer": "ipython3",
   "version": "3.11.7"
  }
 },
 "nbformat": 4,
 "nbformat_minor": 5
}
